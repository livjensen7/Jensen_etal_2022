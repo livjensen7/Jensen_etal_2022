{
 "cells": [
  {
   "cell_type": "code",
   "execution_count": 1,
   "metadata": {},
   "outputs": [],
   "source": [
    "\"\"\"\n",
    "QuantifyTubeEnrichment-timeseries\n",
    "\n",
    "Liv Jensen, Hurley Lab\n",
    "University of California, Berkeley\n",
    "\n",
    "\n",
    "Copyright (c) 2022 Liv Jensen, University of California, Berkeley\n",
    "\n",
    "Permission is hereby granted, free of charge, to any person obtaining a copy\n",
    "of this software and associated documentation files (the \"Software\"), to deal\n",
    "in the Software without restriction, including without limitation the rights\n",
    "to use, copy, modify, merge, publish, distribute, sublicense, and/or sell\n",
    "copies of the Software, and to permit persons to whom the Software is\n",
    "furnished to do so, subject to the following conditions:\n",
    "\n",
    "The above copyright notice and this permission notice shall be included in all\n",
    "copies or substantial portions of the Software.\n",
    "\n",
    "THE SOFTWARE IS PROVIDED \"AS IS\", WITHOUT WARRANTY OF ANY KIND, EXPRESS OR\n",
    "IMPLIED, INCLUDING BUT NOT LIMITED TO THE WARRANTIES OF MERCHANTABILITY,\n",
    "FITNESS FOR A PARTICULAR PURPOSE AND NONINFRINGEMENT. IN NO EVENT SHALL THE\n",
    "AUTHORS OR COPYRIGHT HOLDERS BE LIABLE FOR ANY CLAIM, DAMAGES OR OTHER\n",
    "LIABILITY, WHETHER IN AN ACTION OF CONTRACT, TORT OR OTHERWISE, ARISING FROM,\n",
    "OUT OF OR IN CONNECTION WITH THE SOFTWARE OR THE USE OR OTHER DEALINGS IN THE\n",
    "SOFTWARE. \"\"\"\n",
    "\n",
    "\n",
    "import numpy as np\n",
    "from matplotlib import pyplot as plt\n",
    "from skimage import io\n",
    "from skimage.filters import threshold_otsu\n",
    "import scipy.ndimage.filters as filters\n",
    "%matplotlib inline"
   ]
  },
  {
   "cell_type": "code",
   "execution_count": 2,
   "metadata": {},
   "outputs": [],
   "source": [
    "# imports image file; uses multiple channels, including lipid channel\n",
    "# fname = '/Volumes/LIVDATA/20200731/1002/1002tuberoi.tif'\n",
    "def quantify(fnames, label, numchannels=4, membrane=2, c1=0, c2=1, size=5, save=True):\n",
    "    \"\"\"\n",
    "    Quantifies fluorescence signal in all channels for 2 ROIs: GUV surface and tube surface\n",
    "    \n",
    "    :param fnames: an array of length 2 with pathnames for the GUV and tube ROI .tif files\n",
    "    :param label: a unique identifier string applied to a saved output file\n",
    "    :param numchannels: total number of channels, default is 4\n",
    "    :param membrane: what channel is the membrane fluor? indexed from zero.\n",
    "    :param c1: first channel to quantify\n",
    "    :param c2: 2nd channel to quantify\n",
    "    :param size: size of 2-D blur used to create membrane mask, default is 5 or 7\n",
    "    :param save: boolean if true, output is saved to a .csv file\n",
    "    :return: array of shape (numframes,numchannels,2), where last dimension is GUV (0) or tube (1) ROI.\n",
    "    \"\"\"\n",
    "    for k in range(len(fnames)):\n",
    "        im = io.imread(fnames[k])\n",
    "        lipid=im[:,:,:,membrane]\n",
    "        plt.figure()\n",
    "        if k == 0:\n",
    "            signal = np.zeros((len(lipid),numchannels,2))\n",
    "        for j in range(numchannels):\n",
    "            dat = im[:,:,:,j]\n",
    "            for i in range(len(lipid)):\n",
    "                im_max = filters.maximum_filter(lipid[i], size)\n",
    "                im_min = filters.minimum_filter(lipid[i], size)\n",
    "                im_diff = im_max - im_min\n",
    "                thresh = threshold_otsu(im_diff)\n",
    "                bool_diff = (im_diff < thresh)\n",
    "                masked_dat = dat[i].copy()\n",
    "                masked_dat[bool_diff] = False\n",
    "                plt.imshow(bool_diff)\n",
    "                datav = np.average(masked_dat[masked_dat != 0])\n",
    "                backgroundout = np.average(dat[i][masked_dat == 0])\n",
    "                signal[i,j,k] = datav - backgroundout\n",
    "    \n",
    "    head = \"c1, c2, membrane, brightfield\"\n",
    "    if save==True:\n",
    "        for k in range(len(fnames)):\n",
    "            np.savetxt(fnames[k]+label+\".csv\", signal[:,:,k], delimiter=',',header=head, fmt='%f')\n",
    "    return signal\n",
    "\n",
    "\n",
    "def enrichment(signal, numchannels=2, membrane=2, c1=0, c2=1, ktub=1,verbose=False):\n",
    "    output = np.zeros((len(signal[:,0,0]), numchannels-1))\n",
    "    for i in range(len(signal[:,0,0])):\n",
    "        output[i,0] = signal[i,membrane,1]/signal[i,membrane,0]*ktub #radius\n",
    "        output[i,1] = (signal[i,c1,1]/signal[i,membrane,1])/(signal[i,c1,0]/signal[i,membrane,0]) #c1 tube enrichment\n",
    "        output[i,2] = (signal[i,c2,1]/signal[i,membrane,1])/(signal[i,c2,0]/signal[i,membrane,0]) #c2 tube enrichment\n",
    "    if verbose == True:\n",
    "        print(output)\n",
    "    return output\n",
    "\n",
    "\n",
    "def save_to_csv(data, outpath, label):\n",
    "    \"\"\"\n",
    "    data: output from enrichment function\n",
    "    \"\"\"\n",
    "    head = \"tub/GUV ratio, c1 tube enrichment, c2 tube enrichment\"\n",
    "    np.savetxt(outpath+label+\"data.csv\", data, delimiter=',',header=head, fmt='%f')\n"
   ]
  },
  {
   "cell_type": "code",
   "execution_count": 53,
   "metadata": {},
   "outputs": [
    {
     "name": "stdout",
     "output_type": "stream",
     "text": [
      "(80, 38, 51, 4)\n",
      "(80, 38, 51, 4)\n"
     ]
    },
    {
     "data": {
      "image/png": "[encoded data removed]",
      "text/plain": [
       "<Figure size 432x288 with 1 Axes>"
      ]
     },
     "metadata": {
      "needs_background": "light"
     },
     "output_type": "display_data"
    },
    {
     "data": {
      "image/png": "[encoded data removed]",
      "text/plain": [
       "<Figure size 432x288 with 1 Axes>"
      ]
     },
     "metadata": {
      "needs_background": "light"
     },
     "output_type": "display_data"
    }
   ],
   "source": [
    "# input pathname for GUV and tube ROIs, and quantify signal. toggle save param to save .csv output\n",
    "data = ['GUV_ROIpath','tube_ROIpath']\n",
    "label = 'uniqueID'\n",
    "signal = quantify(data, label, save=False, numchannels=4, membrane=2, size=7)\n",
    "# print(signal)\n",
    "\n",
    "\n",
    "# calculate protein enrichment on the tube\n",
    "enr = enrichment(signal)"
   ]
  }
 ],
 "metadata": {
  "kernelspec": {
   "display_name": "Python 3",
   "language": "python",
   "name": "python3"
  },
  "language_info": {
   "codemirror_mode": {
    "name": "ipython",
    "version": 3
   },
   "file_extension": ".py",
   "mimetype": "text/x-python",
   "name": "python",
   "nbconvert_exporter": "python",
   "pygments_lexer": "ipython3",
   "version": "3.8.5"
  }
 },
 "nbformat": 4,
 "nbformat_minor": 2
}
